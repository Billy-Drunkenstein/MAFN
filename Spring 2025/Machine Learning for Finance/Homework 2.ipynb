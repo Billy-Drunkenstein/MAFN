{
  "nbformat": 4,
  "nbformat_minor": 0,
  "metadata": {
    "colab": {
      "provenance": [],
      "include_colab_link": true
    },
    "kernelspec": {
      "name": "python3",
      "display_name": "Python 3"
    },
    "language_info": {
      "name": "python"
    }
  },
  "cells": [
    {
      "cell_type": "markdown",
      "metadata": {
        "id": "view-in-github",
        "colab_type": "text"
      },
      "source": [
        "<a href=\"https://colab.research.google.com/github/Billy-Drunkenstein/MAFN/blob/main/Spring%202025/Machine%20Learning%20for%20Finance/Homework%202.ipynb\" target=\"_parent\"><img src=\"https://colab.research.google.com/assets/colab-badge.svg\" alt=\"Open In Colab\"/></a>"
      ]
    },
    {
      "cell_type": "markdown",
      "source": [
        "**Context of the problem**\n",
        "\n",
        "The problem centers around trying to predict S&P 500 stock market movements using:\n",
        "\n",
        "Volatility Index, which measures market sentiment and expected volatility\n",
        "\n",
        "Crude Oil Futures, which can serve as a proxy for global economic activity.\n",
        "\n",
        "Gold Futures, often used as a safe-haven asset during times of market stress.\n",
        "\n",
        "The respective tickers for each of these items are the following:\n",
        "\n",
        "^GSPC = SP500\n",
        "\n",
        "^VIX = Volatility index\n",
        "\n",
        "CL=F = Crude oil futures\n",
        "\n",
        "GC=F = Gold futures"
      ],
      "metadata": {
        "id": "Xwunvko1Ju6X"
      }
    },
    {
      "cell_type": "code",
      "source": [
        "Tickers = {\n",
        "    '^GSPC': 'S&P 500',\n",
        "    '^VIX': 'Vol Index',\n",
        "    'CL=F': 'Crude Oil Futures',\n",
        "    'GC=F': 'Gold Futures',\n",
        "}"
      ],
      "metadata": {
        "id": "wI089HENr61h"
      },
      "execution_count": 2,
      "outputs": []
    },
    {
      "cell_type": "markdown",
      "source": [
        "**(0 points) Prerequisite - run the code to import the necessary modules**"
      ],
      "metadata": {
        "id": "aa9kgtXGnXib"
      }
    },
    {
      "cell_type": "code",
      "source": [
        "import yfinance as yf\n",
        "import pandas as pd\n",
        "import numpy as np\n",
        "import datetime\n",
        "\n",
        "from sqlalchemy import create_engine\n",
        "#Creates a connection (engine) to an SQLite database.\n",
        "\n",
        "import sqlite3\n",
        "#sqlite3 is imported as well, although in this code the SQLAlchemy engine is used to handle database I/O\n",
        "\n",
        "from sklearn.metrics import accuracy_score, classification_report\n",
        "#sklearn.metrics:Provides functions such as accuracy_score and classification_report to evaluate model performance\n",
        "\n",
        "from sklearn.linear_model import LogisticRegression, SGDClassifier\n",
        "#\t•\tsklearn.linear_model: Provides linear models: LogisticRegression is used to fit classification models with various regularization methods. SGDClassifier is a stochastic gradient descent classifier that can be trained incrementally (allowing for iteration callbacks).\n",
        "\n",
        "from sklearn.neighbors import KNeighborsClassifier\n",
        "#KNeighborsClassifier (for k-nearest neighbors\n",
        "\n",
        "from sklearn.svm import SVC\n",
        "#SVC (for support vector machines)\n",
        "\n",
        "from sklearn.tree import DecisionTreeClassifier\n",
        "#DecisionTreeClassifier (for decision trees)\n",
        "\n",
        "from sklearn.ensemble import RandomForestClassifier\n",
        "#RandomForestClassifier (for random forests)"
      ],
      "metadata": {
        "id": "cev6frD220Fx"
      },
      "execution_count": 4,
      "outputs": []
    },
    {
      "cell_type": "markdown",
      "source": [
        "**(0 points)Prerequisite - how to download data from Yahoo Finance without having a premium subscription**\n",
        "\n",
        "*Option 1: Excel*\n",
        "\n",
        "1) Go in browser to finance.yahoo.com put stock ticker in a box\n",
        "\n",
        "\n",
        "2) On the left select HISTORICAL DATA\n",
        "\n",
        "\n",
        "3) For period select MAX\n",
        "\n",
        "\n",
        "4) SELECT ALL from table then COPY\n",
        "\n",
        "\n",
        "5) Open new sheet of excel in excel select PASTE AS HTML\n",
        "\n",
        "\n",
        "6) Delete any extra data from Excel\n",
        "\n",
        "\n",
        "7) Import the data from the Excel file\n",
        "\n",
        "*Option 2: Yahoo Finance workaround*\n",
        "\n",
        "Run this python code to download the data.\n",
        "\n",
        "!pip install yfinance openpyxl\n",
        "\n",
        "-------------------------\n",
        "\n",
        "msft_data = yf.download(\"MSFT\", start=\"2014-01-24\", end=\"2025-01-15\", interval=\"1d\", auto_adjust=False)\n",
        "\n",
        "if \"Adj Close\" not in msft_data.columns and \"Adj Close\" in msft_data.columns.str.lower():\n",
        "    msft_data.rename(columns={\"adj close\": \"Adj Close\"}, inplace=True)\n",
        "\n",
        "file_path = \"MSFT_Historical_Data.xlsx\"\n",
        "msft_data.to_excel(file_path, engine=\"openpyxl\")"
      ],
      "metadata": {
        "id": "7LXq6kIRF2QE"
      }
    },
    {
      "cell_type": "markdown",
      "source": [
        "**Task 1 - Data preparation and exploration**\n",
        "\n"
      ],
      "metadata": {
        "id": "eMhJ-o1KvWNN"
      }
    },
    {
      "cell_type": "markdown",
      "source": [
        "(10 points) Task 1.1 - Create a function to download data via API. Hint: Data will be downloaded from Yahoo Finance"
      ],
      "metadata": {
        "id": "O4YlcyEYpO5m"
      }
    },
    {
      "cell_type": "code",
      "source": [
        "def download_data(tickers, start_date, end_date):\n",
        "    \"\"\"\n",
        "    Downloads historical 'Adj Close' or 'Close' data for the given tickers from Yahoo Finance.\n",
        "    Handles cases where 'Adj Close' is missing.\n",
        "    \"\"\"\n",
        "    data_dict = {}\n",
        "\n",
        "    for ticker in tickers:\n",
        "        data = yf.download(ticker, start = start_date, end = end_date,\n",
        "                           interval = '1d', auto_adjust = False, progress = False)\n",
        "\n",
        "        # Keep only the 'Adj Close' column\n",
        "        if 'Adj Close' in data.columns:\n",
        "            price = data['Adj Close'].rename(columns = {'Adj Close' : ticker})\n",
        "            print(ticker, 'Adj Close')\n",
        "\n",
        "        else:\n",
        "            price = data['Close'].rename(columns = {'Close' : ticker})\n",
        "            print(ticker, 'Close')\n",
        "\n",
        "        # Rename Column\n",
        "        data_dict[ticker] = price\n",
        "\n",
        "    # Assemble DataFrame\n",
        "    price_df = pd.concat(data_dict.values(), axis = 1, join = 'inner')\n",
        "    price_df.index.name = None\n",
        "    price_df.columns.name = None\n",
        "\n",
        "    return price_df"
      ],
      "metadata": {
        "id": "YVZQT1RiAdhm"
      },
      "execution_count": 5,
      "outputs": []
    },
    {
      "cell_type": "code",
      "source": [
        "start = '2014-01-24'\n",
        "end = '2025-01-15'\n",
        "\n",
        "Data = download_data(Tickers, start, end)"
      ],
      "metadata": {
        "colab": {
          "base_uri": "https://localhost:8080/"
        },
        "id": "i62mXMSiAti1",
        "outputId": "01da26aa-8d9b-4ac5-bedf-34814897c3dd"
      },
      "execution_count": 6,
      "outputs": [
        {
          "output_type": "stream",
          "name": "stdout",
          "text": [
            "^GSPC Adj Close\n",
            "^VIX Adj Close\n",
            "CL=F Adj Close\n",
            "GC=F Adj Close\n"
          ]
        }
      ]
    },
    {
      "cell_type": "markdown",
      "source": [
        "(10 points) Task 1.2 - Create a function to clean the data. Hint: Drop the rows with missing values.\n",
        "\n",
        "Calculate the daily percentage change (return) for the S&P 500. Create a binary target variable: 1 if the next day's S&P 500 return > 0, else 0.\n"
      ],
      "metadata": {
        "id": "f_6PVto_pQ8R"
      }
    },
    {
      "cell_type": "code",
      "source": [
        "def clean_data(df):\n",
        "    \"\"\"\n",
        "    Drops rows with missing NA\n",
        "    Calculates daily return\n",
        "    Creates binary target variable\n",
        "    \"\"\"\n",
        "\n",
        "    df.dropna(inplace = True)\n",
        "\n",
        "    # Daily return\n",
        "    df['Return'] = df['^GSPC'].pct_change()\n",
        "\n",
        "    # Boolean target\n",
        "    df['Target'] = (df['Return'] > 0).shift(-1)\n",
        "\n",
        "    # Drop final row\n",
        "    df.dropna(inplace = True)\n",
        "\n",
        "    return df"
      ],
      "metadata": {
        "id": "ofTuLLwDrvgc"
      },
      "execution_count": 7,
      "outputs": []
    },
    {
      "cell_type": "code",
      "source": [
        "Data = clean_data(Data)\n",
        "\n",
        "print(Data.isna().sum().sum())\n",
        "Data.head()"
      ],
      "metadata": {
        "id": "pWqirkdWsUe_",
        "outputId": "e867e53a-d52d-402b-fed6-a86300aebb3f",
        "colab": {
          "base_uri": "https://localhost:8080/",
          "height": 224
        }
      },
      "execution_count": 8,
      "outputs": [
        {
          "output_type": "stream",
          "name": "stdout",
          "text": [
            "0\n"
          ]
        },
        {
          "output_type": "execute_result",
          "data": {
            "text/plain": [
              "                  ^GSPC       ^VIX       CL=F         GC=F    Return Target\n",
              "2014-01-27  1781.560059  17.420000  95.720001  1263.599976 -0.004876   True\n",
              "2014-01-28  1792.500000  15.800000  97.410004  1251.000000  0.006141  False\n",
              "2014-01-29  1774.199951  17.350000  97.360001  1262.199951 -0.010209   True\n",
              "2014-01-30  1794.189941  17.290001  98.230003  1242.199951  0.011267  False\n",
              "2014-01-31  1782.589966  18.410000  97.489998  1240.099976 -0.006465  False"
            ],
            "text/html": [
              "\n",
              "  <div id=\"df-85b40a1f-4bd6-46d2-906a-df41b3ea8af1\" class=\"colab-df-container\">\n",
              "    <div>\n",
              "<style scoped>\n",
              "    .dataframe tbody tr th:only-of-type {\n",
              "        vertical-align: middle;\n",
              "    }\n",
              "\n",
              "    .dataframe tbody tr th {\n",
              "        vertical-align: top;\n",
              "    }\n",
              "\n",
              "    .dataframe thead th {\n",
              "        text-align: right;\n",
              "    }\n",
              "</style>\n",
              "<table border=\"1\" class=\"dataframe\">\n",
              "  <thead>\n",
              "    <tr style=\"text-align: right;\">\n",
              "      <th></th>\n",
              "      <th>^GSPC</th>\n",
              "      <th>^VIX</th>\n",
              "      <th>CL=F</th>\n",
              "      <th>GC=F</th>\n",
              "      <th>Return</th>\n",
              "      <th>Target</th>\n",
              "    </tr>\n",
              "  </thead>\n",
              "  <tbody>\n",
              "    <tr>\n",
              "      <th>2014-01-27</th>\n",
              "      <td>1781.560059</td>\n",
              "      <td>17.420000</td>\n",
              "      <td>95.720001</td>\n",
              "      <td>1263.599976</td>\n",
              "      <td>-0.004876</td>\n",
              "      <td>True</td>\n",
              "    </tr>\n",
              "    <tr>\n",
              "      <th>2014-01-28</th>\n",
              "      <td>1792.500000</td>\n",
              "      <td>15.800000</td>\n",
              "      <td>97.410004</td>\n",
              "      <td>1251.000000</td>\n",
              "      <td>0.006141</td>\n",
              "      <td>False</td>\n",
              "    </tr>\n",
              "    <tr>\n",
              "      <th>2014-01-29</th>\n",
              "      <td>1774.199951</td>\n",
              "      <td>17.350000</td>\n",
              "      <td>97.360001</td>\n",
              "      <td>1262.199951</td>\n",
              "      <td>-0.010209</td>\n",
              "      <td>True</td>\n",
              "    </tr>\n",
              "    <tr>\n",
              "      <th>2014-01-30</th>\n",
              "      <td>1794.189941</td>\n",
              "      <td>17.290001</td>\n",
              "      <td>98.230003</td>\n",
              "      <td>1242.199951</td>\n",
              "      <td>0.011267</td>\n",
              "      <td>False</td>\n",
              "    </tr>\n",
              "    <tr>\n",
              "      <th>2014-01-31</th>\n",
              "      <td>1782.589966</td>\n",
              "      <td>18.410000</td>\n",
              "      <td>97.489998</td>\n",
              "      <td>1240.099976</td>\n",
              "      <td>-0.006465</td>\n",
              "      <td>False</td>\n",
              "    </tr>\n",
              "  </tbody>\n",
              "</table>\n",
              "</div>\n",
              "    <div class=\"colab-df-buttons\">\n",
              "\n",
              "  <div class=\"colab-df-container\">\n",
              "    <button class=\"colab-df-convert\" onclick=\"convertToInteractive('df-85b40a1f-4bd6-46d2-906a-df41b3ea8af1')\"\n",
              "            title=\"Convert this dataframe to an interactive table.\"\n",
              "            style=\"display:none;\">\n",
              "\n",
              "  <svg xmlns=\"http://www.w3.org/2000/svg\" height=\"24px\" viewBox=\"0 -960 960 960\">\n",
              "    <path d=\"M120-120v-720h720v720H120Zm60-500h600v-160H180v160Zm220 220h160v-160H400v160Zm0 220h160v-160H400v160ZM180-400h160v-160H180v160Zm440 0h160v-160H620v160ZM180-180h160v-160H180v160Zm440 0h160v-160H620v160Z\"/>\n",
              "  </svg>\n",
              "    </button>\n",
              "\n",
              "  <style>\n",
              "    .colab-df-container {\n",
              "      display:flex;\n",
              "      gap: 12px;\n",
              "    }\n",
              "\n",
              "    .colab-df-convert {\n",
              "      background-color: #E8F0FE;\n",
              "      border: none;\n",
              "      border-radius: 50%;\n",
              "      cursor: pointer;\n",
              "      display: none;\n",
              "      fill: #1967D2;\n",
              "      height: 32px;\n",
              "      padding: 0 0 0 0;\n",
              "      width: 32px;\n",
              "    }\n",
              "\n",
              "    .colab-df-convert:hover {\n",
              "      background-color: #E2EBFA;\n",
              "      box-shadow: 0px 1px 2px rgba(60, 64, 67, 0.3), 0px 1px 3px 1px rgba(60, 64, 67, 0.15);\n",
              "      fill: #174EA6;\n",
              "    }\n",
              "\n",
              "    .colab-df-buttons div {\n",
              "      margin-bottom: 4px;\n",
              "    }\n",
              "\n",
              "    [theme=dark] .colab-df-convert {\n",
              "      background-color: #3B4455;\n",
              "      fill: #D2E3FC;\n",
              "    }\n",
              "\n",
              "    [theme=dark] .colab-df-convert:hover {\n",
              "      background-color: #434B5C;\n",
              "      box-shadow: 0px 1px 3px 1px rgba(0, 0, 0, 0.15);\n",
              "      filter: drop-shadow(0px 1px 2px rgba(0, 0, 0, 0.3));\n",
              "      fill: #FFFFFF;\n",
              "    }\n",
              "  </style>\n",
              "\n",
              "    <script>\n",
              "      const buttonEl =\n",
              "        document.querySelector('#df-85b40a1f-4bd6-46d2-906a-df41b3ea8af1 button.colab-df-convert');\n",
              "      buttonEl.style.display =\n",
              "        google.colab.kernel.accessAllowed ? 'block' : 'none';\n",
              "\n",
              "      async function convertToInteractive(key) {\n",
              "        const element = document.querySelector('#df-85b40a1f-4bd6-46d2-906a-df41b3ea8af1');\n",
              "        const dataTable =\n",
              "          await google.colab.kernel.invokeFunction('convertToInteractive',\n",
              "                                                    [key], {});\n",
              "        if (!dataTable) return;\n",
              "\n",
              "        const docLinkHtml = 'Like what you see? Visit the ' +\n",
              "          '<a target=\"_blank\" href=https://colab.research.google.com/notebooks/data_table.ipynb>data table notebook</a>'\n",
              "          + ' to learn more about interactive tables.';\n",
              "        element.innerHTML = '';\n",
              "        dataTable['output_type'] = 'display_data';\n",
              "        await google.colab.output.renderOutput(dataTable, element);\n",
              "        const docLink = document.createElement('div');\n",
              "        docLink.innerHTML = docLinkHtml;\n",
              "        element.appendChild(docLink);\n",
              "      }\n",
              "    </script>\n",
              "  </div>\n",
              "\n",
              "\n",
              "<div id=\"df-cc373034-807d-405d-b2d2-ada5bac5f296\">\n",
              "  <button class=\"colab-df-quickchart\" onclick=\"quickchart('df-cc373034-807d-405d-b2d2-ada5bac5f296')\"\n",
              "            title=\"Suggest charts\"\n",
              "            style=\"display:none;\">\n",
              "\n",
              "<svg xmlns=\"http://www.w3.org/2000/svg\" height=\"24px\"viewBox=\"0 0 24 24\"\n",
              "     width=\"24px\">\n",
              "    <g>\n",
              "        <path d=\"M19 3H5c-1.1 0-2 .9-2 2v14c0 1.1.9 2 2 2h14c1.1 0 2-.9 2-2V5c0-1.1-.9-2-2-2zM9 17H7v-7h2v7zm4 0h-2V7h2v10zm4 0h-2v-4h2v4z\"/>\n",
              "    </g>\n",
              "</svg>\n",
              "  </button>\n",
              "\n",
              "<style>\n",
              "  .colab-df-quickchart {\n",
              "      --bg-color: #E8F0FE;\n",
              "      --fill-color: #1967D2;\n",
              "      --hover-bg-color: #E2EBFA;\n",
              "      --hover-fill-color: #174EA6;\n",
              "      --disabled-fill-color: #AAA;\n",
              "      --disabled-bg-color: #DDD;\n",
              "  }\n",
              "\n",
              "  [theme=dark] .colab-df-quickchart {\n",
              "      --bg-color: #3B4455;\n",
              "      --fill-color: #D2E3FC;\n",
              "      --hover-bg-color: #434B5C;\n",
              "      --hover-fill-color: #FFFFFF;\n",
              "      --disabled-bg-color: #3B4455;\n",
              "      --disabled-fill-color: #666;\n",
              "  }\n",
              "\n",
              "  .colab-df-quickchart {\n",
              "    background-color: var(--bg-color);\n",
              "    border: none;\n",
              "    border-radius: 50%;\n",
              "    cursor: pointer;\n",
              "    display: none;\n",
              "    fill: var(--fill-color);\n",
              "    height: 32px;\n",
              "    padding: 0;\n",
              "    width: 32px;\n",
              "  }\n",
              "\n",
              "  .colab-df-quickchart:hover {\n",
              "    background-color: var(--hover-bg-color);\n",
              "    box-shadow: 0 1px 2px rgba(60, 64, 67, 0.3), 0 1px 3px 1px rgba(60, 64, 67, 0.15);\n",
              "    fill: var(--button-hover-fill-color);\n",
              "  }\n",
              "\n",
              "  .colab-df-quickchart-complete:disabled,\n",
              "  .colab-df-quickchart-complete:disabled:hover {\n",
              "    background-color: var(--disabled-bg-color);\n",
              "    fill: var(--disabled-fill-color);\n",
              "    box-shadow: none;\n",
              "  }\n",
              "\n",
              "  .colab-df-spinner {\n",
              "    border: 2px solid var(--fill-color);\n",
              "    border-color: transparent;\n",
              "    border-bottom-color: var(--fill-color);\n",
              "    animation:\n",
              "      spin 1s steps(1) infinite;\n",
              "  }\n",
              "\n",
              "  @keyframes spin {\n",
              "    0% {\n",
              "      border-color: transparent;\n",
              "      border-bottom-color: var(--fill-color);\n",
              "      border-left-color: var(--fill-color);\n",
              "    }\n",
              "    20% {\n",
              "      border-color: transparent;\n",
              "      border-left-color: var(--fill-color);\n",
              "      border-top-color: var(--fill-color);\n",
              "    }\n",
              "    30% {\n",
              "      border-color: transparent;\n",
              "      border-left-color: var(--fill-color);\n",
              "      border-top-color: var(--fill-color);\n",
              "      border-right-color: var(--fill-color);\n",
              "    }\n",
              "    40% {\n",
              "      border-color: transparent;\n",
              "      border-right-color: var(--fill-color);\n",
              "      border-top-color: var(--fill-color);\n",
              "    }\n",
              "    60% {\n",
              "      border-color: transparent;\n",
              "      border-right-color: var(--fill-color);\n",
              "    }\n",
              "    80% {\n",
              "      border-color: transparent;\n",
              "      border-right-color: var(--fill-color);\n",
              "      border-bottom-color: var(--fill-color);\n",
              "    }\n",
              "    90% {\n",
              "      border-color: transparent;\n",
              "      border-bottom-color: var(--fill-color);\n",
              "    }\n",
              "  }\n",
              "</style>\n",
              "\n",
              "  <script>\n",
              "    async function quickchart(key) {\n",
              "      const quickchartButtonEl =\n",
              "        document.querySelector('#' + key + ' button');\n",
              "      quickchartButtonEl.disabled = true;  // To prevent multiple clicks.\n",
              "      quickchartButtonEl.classList.add('colab-df-spinner');\n",
              "      try {\n",
              "        const charts = await google.colab.kernel.invokeFunction(\n",
              "            'suggestCharts', [key], {});\n",
              "      } catch (error) {\n",
              "        console.error('Error during call to suggestCharts:', error);\n",
              "      }\n",
              "      quickchartButtonEl.classList.remove('colab-df-spinner');\n",
              "      quickchartButtonEl.classList.add('colab-df-quickchart-complete');\n",
              "    }\n",
              "    (() => {\n",
              "      let quickchartButtonEl =\n",
              "        document.querySelector('#df-cc373034-807d-405d-b2d2-ada5bac5f296 button');\n",
              "      quickchartButtonEl.style.display =\n",
              "        google.colab.kernel.accessAllowed ? 'block' : 'none';\n",
              "    })();\n",
              "  </script>\n",
              "</div>\n",
              "\n",
              "    </div>\n",
              "  </div>\n"
            ],
            "application/vnd.google.colaboratory.intrinsic+json": {
              "type": "dataframe",
              "variable_name": "Data",
              "summary": "{\n  \"name\": \"Data\",\n  \"rows\": 2756,\n  \"fields\": [\n    {\n      \"column\": \"^GSPC\",\n      \"properties\": {\n        \"dtype\": \"number\",\n        \"std\": 1116.95488763339,\n        \"min\": 1741.8900146484375,\n        \"max\": 6090.27001953125,\n        \"num_unique_values\": 2743,\n        \"samples\": [\n          2425.530029296875,\n          3130.1201171875,\n          2876.320068359375\n        ],\n        \"semantic_type\": \"\",\n        \"description\": \"\"\n      }\n    },\n    {\n      \"column\": \"^VIX\",\n      \"properties\": {\n        \"dtype\": \"number\",\n        \"std\": 7.091244704239811,\n        \"min\": 9.140000343322754,\n        \"max\": 82.69000244140625,\n        \"num_unique_values\": 1433,\n        \"samples\": [\n          20.59000015258789,\n          10.460000038146973,\n          26.190000534057617\n        ],\n        \"semantic_type\": \"\",\n        \"description\": \"\"\n      }\n    },\n    {\n      \"column\": \"CL=F\",\n      \"properties\": {\n        \"dtype\": \"number\",\n        \"std\": 19.75590880517897,\n        \"min\": -37.630001068115234,\n        \"max\": 123.69999694824219,\n        \"num_unique_values\": 2253,\n        \"samples\": [\n          93.88999938964844,\n          61.720001220703125,\n          85.1500015258789\n        ],\n        \"semantic_type\": \"\",\n        \"description\": \"\"\n      }\n    },\n    {\n      \"column\": \"GC=F\",\n      \"properties\": {\n        \"dtype\": \"number\",\n        \"std\": 391.1069137912729,\n        \"min\": 1050.800048828125,\n        \"max\": 2788.5,\n        \"num_unique_values\": 2274,\n        \"samples\": [\n          2033.0,\n          1919.5,\n          1290.199951171875\n        ],\n        \"semantic_type\": \"\",\n        \"description\": \"\"\n      }\n    },\n    {\n      \"column\": \"Return\",\n      \"properties\": {\n        \"dtype\": \"number\",\n        \"std\": 0.01093693667243554,\n        \"min\": -0.11984055240393443,\n        \"max\": 0.09382773976227554,\n        \"num_unique_values\": 2756,\n        \"samples\": [\n          0.010869123768910471,\n          -0.003395574405981705,\n          -0.0022244379802809355\n        ],\n        \"semantic_type\": \"\",\n        \"description\": \"\"\n      }\n    },\n    {\n      \"column\": \"Target\",\n      \"properties\": {\n        \"dtype\": \"category\",\n        \"num_unique_values\": 2,\n        \"samples\": [\n          false,\n          true\n        ],\n        \"semantic_type\": \"\",\n        \"description\": \"\"\n      }\n    }\n  ]\n}"
            }
          },
          "metadata": {},
          "execution_count": 8
        }
      ]
    },
    {
      "cell_type": "markdown",
      "source": [
        "(10 points) Task 1.3 - Create a function to save the data to a local database"
      ],
      "metadata": {
        "id": "y7RvEx9KpSQI"
      }
    },
    {
      "cell_type": "code",
      "source": [
        "def save_to_db(df, db_name='market_data.db', table_name='market_data'):"
      ],
      "metadata": {
        "id": "ssNY-GiUrnzt"
      },
      "execution_count": null,
      "outputs": []
    },
    {
      "cell_type": "markdown",
      "source": [
        "**(10 points) Task 2 – Create a function to split the Data into Train, Test, and Validation Sets**. Hint: Ensure the data is sorted by date first."
      ],
      "metadata": {
        "id": "VUtv79k_sbnz"
      }
    },
    {
      "cell_type": "code",
      "source": [
        "def split_data(df, feature_columns, target_column):\n",
        "\n",
        "    return"
      ],
      "metadata": {
        "id": "xrNXwOPmsbRK"
      },
      "execution_count": null,
      "outputs": []
    },
    {
      "cell_type": "markdown",
      "source": [
        "**(10 points) Task 3.1 - Create a function to analyse the data applying loss functions and regularisation functions such as ridge and lasso regulsatisation**"
      ],
      "metadata": {
        "id": "dnSmHqeYwT_4"
      }
    },
    {
      "cell_type": "code",
      "source": [
        "def logistic_regression_models(X_train, y_train, X_val, y_val):"
      ],
      "metadata": {
        "id": "9yBrJcFew2r9"
      },
      "execution_count": null,
      "outputs": []
    },
    {
      "cell_type": "markdown",
      "source": [
        "**(15 points) Task 4 - Create an iteration callback function to print information for troubleshooting**\n",
        "\n",
        "During each epoch, the callback should print:\n",
        "A. The current epoch number.\n",
        "B. The loss value for that epoch.\n",
        "C. The training accuracy for that epoch.\n",
        "\n",
        "Comment on how the loss evolves over the epochs and whether this trend indicates proper convergence?"
      ],
      "metadata": {
        "id": "lIaSJNJ0wo9S"
      }
    },
    {
      "cell_type": "code",
      "source": [
        "def sgd_classifier_with_callback(X_train, y_train, n_epochs=10):\n",
        "\n",
        "    return"
      ],
      "metadata": {
        "id": "ValL-RThwkZN"
      },
      "execution_count": null,
      "outputs": []
    },
    {
      "cell_type": "markdown",
      "source": [
        "**(10 points) Task 5 - Create a function to explore classification algorithms in the following order: Nearest Neighbor,SVM, Decision Trees and Random Forest**.\n",
        "\n",
        "Using the features from your dataset, your goal is to predict whether the S&P 500’s next-day return will be positive (1) or negative (0).\n",
        "\n",
        "For each algorithm, compute and report accuracy on the test set and a detailed classification report (including precision, recall, and F1-score).\n",
        "\n",
        "Hint: This can all be done within a single function, using a for loop."
      ],
      "metadata": {
        "id": "d_CTpcudw0Qg"
      }
    },
    {
      "cell_type": "code",
      "source": [
        "def explore_classification_algorithms(X_train, y_train, X_test, y_test):"
      ],
      "metadata": {
        "id": "BDWHRCiP0N1g"
      },
      "execution_count": null,
      "outputs": []
    },
    {
      "cell_type": "markdown",
      "source": [
        "**(15 points) Task 6 - Create a simple data pipeline, which can be a scheduled script.** Hint: This serves as the main entry point that strings together all of the previous functions to form a complete data pipeline. This should be scheduled at regular intervals."
      ],
      "metadata": {
        "id": "neWgpxISwH9m"
      }
    },
    {
      "cell_type": "code",
      "source": [
        "def run_pipeline():"
      ],
      "metadata": {
        "id": "zss17mUfDmRU"
      },
      "execution_count": null,
      "outputs": []
    },
    {
      "cell_type": "markdown",
      "source": [
        "**(10 points) Task 7 - What does the accuracy of each method used seem to be? What does this tell us both about the data that we used to train our prediction model and the predictive techniques which we tried to implement?**"
      ],
      "metadata": {
        "id": "GpHuI5lkDoX_"
      }
    }
  ]
}