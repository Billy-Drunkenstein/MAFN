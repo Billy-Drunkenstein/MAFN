{
  "nbformat": 4,
  "nbformat_minor": 0,
  "metadata": {
    "colab": {
      "provenance": []
    },
    "kernelspec": {
      "name": "python3",
      "display_name": "Python 3"
    },
    "language_info": {
      "name": "python"
    }
  },
  "cells": [
    {
      "cell_type": "code",
      "execution_count": null,
      "metadata": {
        "id": "91TiplI7ripQ"
      },
      "outputs": [],
      "source": [
        "Context:\n",
        "\n",
        "We will go through a basic Long Short Term Memory (LSTM) model for time series and investigate\n",
        "\n",
        "First load in the data. The preproccessing only consist of normalization and the creation of windows.\n",
        "Creation of the LSTM model\n",
        "Training the LSTM model\n",
        "Testing the LSTM model with 1 time step and with 1 window"
      ]
    },
    {
      "cell_type": "markdown",
      "source": [
        "Context:\n",
        "\n",
        "We will go through a basic Long Short Term Memory (LSTM) model for time series and investigate the maximal efficacy of different sets of parameters\n",
        "\n",
        "The broad overview of the steps will involve loading the data, preprocessing of the data, creation of the LSTM model, training of the model and finally testing of the model."
      ],
      "metadata": {
        "id": "eS-qjACGsEKZ"
      }
    },
    {
      "cell_type": "markdown",
      "source": [
        "Task 1 - 0 points) Run the necessary libraries, which have been provided for you below"
      ],
      "metadata": {
        "id": "lRZ6ZEaTs6vZ"
      }
    },
    {
      "cell_type": "code",
      "source": [
        "import matplotlib.pyplot as plt\n",
        "import statsmodels.tsa.seasonal as smt\n",
        "import numpy as np # linear algebra\n",
        "import pandas as pd # data processing, CSV file I/O (e.g. pd.read_csv)\n",
        "import random\n",
        "import datetime as dt\n",
        "from sklearn import linear_model\n",
        "from sklearn.metrics import mean_absolute_error\n",
        "import plotly\n",
        "\n",
        "# import the relevant Keras modules\n",
        "from keras.models import Sequential\n",
        "from keras.layers import Activation, Dense\n",
        "from keras.layers import LSTM\n",
        "from keras.layers import Dropout"
      ],
      "metadata": {
        "id": "qdGiJtzTtIyE"
      },
      "execution_count": null,
      "outputs": []
    },
    {
      "cell_type": "markdown",
      "source": [
        "Task 2 - 10 points) Load the data\n",
        "\n",
        "Retrieve Close price of Google from yahoo finance from 2008-01-02 to 2024-12-30.\n",
        "\n",
        "Refer to the instructions in homework 2, if necessary, for up to date instructions on how to retrieve such data for free under new Yahoo Finance API permissions."
      ],
      "metadata": {
        "id": "vKlKl1ostX8T"
      }
    },
    {
      "cell_type": "markdown",
      "source": [
        "Task 3 - 10 points) Write a function to visualise the data to make sure it has been succesfully imported"
      ],
      "metadata": {
        "id": "xGGQNmZnuOF3"
      }
    },
    {
      "cell_type": "markdown",
      "source": [
        "Context) Now we will create windows of default length 20 with the data imported and begin the process of constructing the model."
      ],
      "metadata": {
        "id": "l16CqqQ2vtm0"
      }
    },
    {
      "cell_type": "markdown",
      "source": [
        "Task 4.1 - 5 points) Define the parameter for the length of your window"
      ],
      "metadata": {
        "id": "XMdYW5XewOm-"
      }
    },
    {
      "cell_type": "markdown",
      "source": [
        "Task 4.2 - 5 points) Create a data point which splits training and testing set"
      ],
      "metadata": {
        "id": "ln_SsVZRwgTG"
      }
    },
    {
      "cell_type": "markdown",
      "source": [
        "Task 4.3 - 5 points) Create a window for training"
      ],
      "metadata": {
        "id": "45P4Ee4Swrw7"
      }
    },
    {
      "cell_type": "markdown",
      "source": [
        "Task 4.4 - 5 points) Create a window for testing"
      ],
      "metadata": {
        "id": "GUJtGYtuwzbK"
      }
    },
    {
      "cell_type": "markdown",
      "source": [
        "Task 5 - 10 points) Create a function in which you execute the building of your LSTM model\n",
        "\n",
        "Consider these inputs:\n",
        "\n",
        "Activation function +\n",
        "Loss function +\n",
        "Dropout rate +\n",
        "Optimizer +\n",
        "nn layers/architecture"
      ],
      "metadata": {
        "id": "enfdXEIJxCA5"
      }
    },
    {
      "cell_type": "markdown",
      "source": [
        "Task 6 - 10 points) Considering epochs as a parameter to adjust, use epochs to set the stopping condition of the model by monitoring the loss at each step of the iteration."
      ],
      "metadata": {
        "id": "O6LjYcJHyYRd"
      }
    },
    {
      "cell_type": "markdown",
      "source": [
        "Task 7 - 10 points) Plot the performance of the model, in terms of accuracy, when predicting one time point ahead compared to multiple time points ahead."
      ],
      "metadata": {
        "id": "4NoW-a2SzUQG"
      }
    },
    {
      "cell_type": "markdown",
      "source": [
        "Task 8 - 10 points) Test the work attempted with different set of parameters.\n",
        "Specifically test the functions by attempting to modify the following parameters and report, for each, your findings on their impact within the model.\n",
        "\n",
        "1) Window length\n",
        "2) LSTM parameter: activation function\n",
        "3) LSTM parameter: loss function\n",
        "4) LSTM parameter: dropout rate\n",
        "5) LSTM parameter: optimizer"
      ],
      "metadata": {
        "id": "Dms-HuhK0JPm"
      }
    },
    {
      "cell_type": "markdown",
      "source": [
        "Task 9 - 20 points):\n",
        "\n",
        "In this short NLP task, you will use an LSTM model to perform next-word prediction on a small text sample.\n",
        "\n",
        "Instructions:\n",
        "\t1.\tSelect a short paragraph of English text (around 100–200 words).\n",
        "\t2.\tTokenize the text into words, and create input-output pairs where each input consists of 3 consecutive words and the output is the 4th word.\n",
        "\t3.\tConvert words to integer indices (you may use Keras’ Tokenizer).\n",
        "\t4.\tTrain a simple LSTM model to predict the next word given the previous 3.\n",
        "\t5.\tTest your model by providing a custom 3-word input and printing the predicted next word.\n",
        "\n",
        "You do not need to optimize the model. Just focus on building a viable version of the workflow."
      ],
      "metadata": {
        "id": "ZrkBGsqXDGap"
      }
    }
  ]
}